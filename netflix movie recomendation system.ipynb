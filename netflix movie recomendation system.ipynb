{
 "cells": [
  {
   "cell_type": "markdown",
   "id": "975ffdda",
   "metadata": {},
   "source": [
    "# Movie Recommendation System"
   ]
  },
  {
   "cell_type": "markdown",
   "id": "65b9c5ff",
   "metadata": {},
   "source": [
    "# Import Dependencies"
   ]
  },
  {
   "cell_type": "code",
   "execution_count": 1,
   "id": "506b194b",
   "metadata": {},
   "outputs": [],
   "source": [
    "import pandas as pd\n",
    "import numpy as np\n",
    "import nltk\n",
    "from nltk.stem.porter import PorterStemmer\n",
    "from sklearn.feature_extraction.text import CountVectorizer\n",
    "from sklearn.metrics.pairwise import cosine_similarity\n",
    "from pandarallel import pandarallel\n",
    "import pickle"
   ]
  },
  {
   "cell_type": "markdown",
   "id": "3a0a79c6",
   "metadata": {},
   "source": [
    "# Import Dataset"
   ]
  },
  {
   "cell_type": "code",
   "execution_count": 2,
   "id": "999cf751",
   "metadata": {},
   "outputs": [],
   "source": [
    "df=pd.read_csv(\"netflix_movies_list.csv\")"
   ]
  },
  {
   "cell_type": "markdown",
   "id": "dee34092",
   "metadata": {},
   "source": [
    "# EDA"
   ]
  },
  {
   "cell_type": "code",
   "execution_count": 3,
   "id": "bc1e75cc",
   "metadata": {},
   "outputs": [
    {
     "data": {
      "text/html": [
       "<div>\n",
       "<style scoped>\n",
       "    .dataframe tbody tr th:only-of-type {\n",
       "        vertical-align: middle;\n",
       "    }\n",
       "\n",
       "    .dataframe tbody tr th {\n",
       "        vertical-align: top;\n",
       "    }\n",
       "\n",
       "    .dataframe thead th {\n",
       "        text-align: right;\n",
       "    }\n",
       "</style>\n",
       "<table border=\"1\" class=\"dataframe\">\n",
       "  <thead>\n",
       "    <tr style=\"text-align: right;\">\n",
       "      <th></th>\n",
       "      <th>show_id</th>\n",
       "      <th>type</th>\n",
       "      <th>title</th>\n",
       "      <th>director</th>\n",
       "      <th>cast</th>\n",
       "      <th>country</th>\n",
       "      <th>date_added</th>\n",
       "      <th>release_year</th>\n",
       "      <th>rating</th>\n",
       "      <th>duration</th>\n",
       "      <th>listed_in</th>\n",
       "      <th>description</th>\n",
       "    </tr>\n",
       "  </thead>\n",
       "  <tbody>\n",
       "    <tr>\n",
       "      <th>0</th>\n",
       "      <td>s1</td>\n",
       "      <td>TV Show</td>\n",
       "      <td>3%</td>\n",
       "      <td>NaN</td>\n",
       "      <td>João Miguel, Bianca Comparato, Michel Gomes, R...</td>\n",
       "      <td>Brazil</td>\n",
       "      <td>August 14, 2020</td>\n",
       "      <td>2020</td>\n",
       "      <td>TV-MA</td>\n",
       "      <td>4 Seasons</td>\n",
       "      <td>International TV Shows, TV Dramas, TV Sci-Fi &amp;...</td>\n",
       "      <td>In a future where the elite inhabit an island ...</td>\n",
       "    </tr>\n",
       "    <tr>\n",
       "      <th>1</th>\n",
       "      <td>s2</td>\n",
       "      <td>Movie</td>\n",
       "      <td>07:19</td>\n",
       "      <td>Jorge Michel Grau</td>\n",
       "      <td>Demián Bichir, Héctor Bonilla, Oscar Serrano, ...</td>\n",
       "      <td>Mexico</td>\n",
       "      <td>December 23, 2016</td>\n",
       "      <td>2016</td>\n",
       "      <td>TV-MA</td>\n",
       "      <td>93 min</td>\n",
       "      <td>Dramas, International Movies</td>\n",
       "      <td>After a devastating earthquake hits Mexico Cit...</td>\n",
       "    </tr>\n",
       "    <tr>\n",
       "      <th>2</th>\n",
       "      <td>s3</td>\n",
       "      <td>Movie</td>\n",
       "      <td>23:59</td>\n",
       "      <td>Gilbert Chan</td>\n",
       "      <td>Tedd Chan, Stella Chung, Henley Hii, Lawrence ...</td>\n",
       "      <td>Singapore</td>\n",
       "      <td>December 20, 2018</td>\n",
       "      <td>2011</td>\n",
       "      <td>R</td>\n",
       "      <td>78 min</td>\n",
       "      <td>Horror Movies, International Movies</td>\n",
       "      <td>When an army recruit is found dead, his fellow...</td>\n",
       "    </tr>\n",
       "    <tr>\n",
       "      <th>3</th>\n",
       "      <td>s4</td>\n",
       "      <td>Movie</td>\n",
       "      <td>9</td>\n",
       "      <td>Shane Acker</td>\n",
       "      <td>Elijah Wood, John C. Reilly, Jennifer Connelly...</td>\n",
       "      <td>United States</td>\n",
       "      <td>November 16, 2017</td>\n",
       "      <td>2009</td>\n",
       "      <td>PG-13</td>\n",
       "      <td>80 min</td>\n",
       "      <td>Action &amp; Adventure, Independent Movies, Sci-Fi...</td>\n",
       "      <td>In a postapocalyptic world, rag-doll robots hi...</td>\n",
       "    </tr>\n",
       "    <tr>\n",
       "      <th>4</th>\n",
       "      <td>s5</td>\n",
       "      <td>Movie</td>\n",
       "      <td>21</td>\n",
       "      <td>Robert Luketic</td>\n",
       "      <td>Jim Sturgess, Kevin Spacey, Kate Bosworth, Aar...</td>\n",
       "      <td>United States</td>\n",
       "      <td>January 1, 2020</td>\n",
       "      <td>2008</td>\n",
       "      <td>PG-13</td>\n",
       "      <td>123 min</td>\n",
       "      <td>Dramas</td>\n",
       "      <td>A brilliant group of students become card-coun...</td>\n",
       "    </tr>\n",
       "  </tbody>\n",
       "</table>\n",
       "</div>"
      ],
      "text/plain": [
       "  show_id     type  title           director  \\\n",
       "0      s1  TV Show     3%                NaN   \n",
       "1      s2    Movie  07:19  Jorge Michel Grau   \n",
       "2      s3    Movie  23:59       Gilbert Chan   \n",
       "3      s4    Movie      9        Shane Acker   \n",
       "4      s5    Movie     21     Robert Luketic   \n",
       "\n",
       "                                                cast        country  \\\n",
       "0  João Miguel, Bianca Comparato, Michel Gomes, R...         Brazil   \n",
       "1  Demián Bichir, Héctor Bonilla, Oscar Serrano, ...         Mexico   \n",
       "2  Tedd Chan, Stella Chung, Henley Hii, Lawrence ...      Singapore   \n",
       "3  Elijah Wood, John C. Reilly, Jennifer Connelly...  United States   \n",
       "4  Jim Sturgess, Kevin Spacey, Kate Bosworth, Aar...  United States   \n",
       "\n",
       "          date_added  release_year rating   duration  \\\n",
       "0    August 14, 2020          2020  TV-MA  4 Seasons   \n",
       "1  December 23, 2016          2016  TV-MA     93 min   \n",
       "2  December 20, 2018          2011      R     78 min   \n",
       "3  November 16, 2017          2009  PG-13     80 min   \n",
       "4    January 1, 2020          2008  PG-13    123 min   \n",
       "\n",
       "                                           listed_in  \\\n",
       "0  International TV Shows, TV Dramas, TV Sci-Fi &...   \n",
       "1                       Dramas, International Movies   \n",
       "2                Horror Movies, International Movies   \n",
       "3  Action & Adventure, Independent Movies, Sci-Fi...   \n",
       "4                                             Dramas   \n",
       "\n",
       "                                         description  \n",
       "0  In a future where the elite inhabit an island ...  \n",
       "1  After a devastating earthquake hits Mexico Cit...  \n",
       "2  When an army recruit is found dead, his fellow...  \n",
       "3  In a postapocalyptic world, rag-doll robots hi...  \n",
       "4  A brilliant group of students become card-coun...  "
      ]
     },
     "execution_count": 3,
     "metadata": {},
     "output_type": "execute_result"
    }
   ],
   "source": [
    "df.head()"
   ]
  },
  {
   "cell_type": "code",
   "execution_count": 4,
   "id": "ae848707",
   "metadata": {},
   "outputs": [
    {
     "data": {
      "text/plain": [
       "show_id            0\n",
       "type               0\n",
       "title              0\n",
       "director        2389\n",
       "cast             718\n",
       "country          507\n",
       "date_added        10\n",
       "release_year       0\n",
       "rating             7\n",
       "duration           0\n",
       "listed_in          0\n",
       "description        0\n",
       "dtype: int64"
      ]
     },
     "execution_count": 4,
     "metadata": {},
     "output_type": "execute_result"
    }
   ],
   "source": [
    "#checking for Null values\n",
    "df.isna().sum()"
   ]
  },
  {
   "cell_type": "code",
   "execution_count": 5,
   "id": "ffe3edfb",
   "metadata": {},
   "outputs": [],
   "source": [
    "#droping unwanted columns\n",
    "df.drop(columns=['date_added','rating','duration','release_year','director'],inplace=True)"
   ]
  },
  {
   "cell_type": "code",
   "execution_count": 6,
   "id": "d8342eec",
   "metadata": {},
   "outputs": [
    {
     "data": {
      "text/html": [
       "<div>\n",
       "<style scoped>\n",
       "    .dataframe tbody tr th:only-of-type {\n",
       "        vertical-align: middle;\n",
       "    }\n",
       "\n",
       "    .dataframe tbody tr th {\n",
       "        vertical-align: top;\n",
       "    }\n",
       "\n",
       "    .dataframe thead th {\n",
       "        text-align: right;\n",
       "    }\n",
       "</style>\n",
       "<table border=\"1\" class=\"dataframe\">\n",
       "  <thead>\n",
       "    <tr style=\"text-align: right;\">\n",
       "      <th></th>\n",
       "      <th>show_id</th>\n",
       "      <th>type</th>\n",
       "      <th>title</th>\n",
       "      <th>cast</th>\n",
       "      <th>country</th>\n",
       "      <th>listed_in</th>\n",
       "      <th>description</th>\n",
       "    </tr>\n",
       "  </thead>\n",
       "  <tbody>\n",
       "    <tr>\n",
       "      <th>0</th>\n",
       "      <td>s1</td>\n",
       "      <td>TV Show</td>\n",
       "      <td>3%</td>\n",
       "      <td>João Miguel, Bianca Comparato, Michel Gomes, R...</td>\n",
       "      <td>Brazil</td>\n",
       "      <td>International TV Shows, TV Dramas, TV Sci-Fi &amp;...</td>\n",
       "      <td>In a future where the elite inhabit an island ...</td>\n",
       "    </tr>\n",
       "    <tr>\n",
       "      <th>1</th>\n",
       "      <td>s2</td>\n",
       "      <td>Movie</td>\n",
       "      <td>07:19</td>\n",
       "      <td>Demián Bichir, Héctor Bonilla, Oscar Serrano, ...</td>\n",
       "      <td>Mexico</td>\n",
       "      <td>Dramas, International Movies</td>\n",
       "      <td>After a devastating earthquake hits Mexico Cit...</td>\n",
       "    </tr>\n",
       "    <tr>\n",
       "      <th>2</th>\n",
       "      <td>s3</td>\n",
       "      <td>Movie</td>\n",
       "      <td>23:59</td>\n",
       "      <td>Tedd Chan, Stella Chung, Henley Hii, Lawrence ...</td>\n",
       "      <td>Singapore</td>\n",
       "      <td>Horror Movies, International Movies</td>\n",
       "      <td>When an army recruit is found dead, his fellow...</td>\n",
       "    </tr>\n",
       "    <tr>\n",
       "      <th>3</th>\n",
       "      <td>s4</td>\n",
       "      <td>Movie</td>\n",
       "      <td>9</td>\n",
       "      <td>Elijah Wood, John C. Reilly, Jennifer Connelly...</td>\n",
       "      <td>United States</td>\n",
       "      <td>Action &amp; Adventure, Independent Movies, Sci-Fi...</td>\n",
       "      <td>In a postapocalyptic world, rag-doll robots hi...</td>\n",
       "    </tr>\n",
       "    <tr>\n",
       "      <th>4</th>\n",
       "      <td>s5</td>\n",
       "      <td>Movie</td>\n",
       "      <td>21</td>\n",
       "      <td>Jim Sturgess, Kevin Spacey, Kate Bosworth, Aar...</td>\n",
       "      <td>United States</td>\n",
       "      <td>Dramas</td>\n",
       "      <td>A brilliant group of students become card-coun...</td>\n",
       "    </tr>\n",
       "  </tbody>\n",
       "</table>\n",
       "</div>"
      ],
      "text/plain": [
       "  show_id     type  title                                               cast  \\\n",
       "0      s1  TV Show     3%  João Miguel, Bianca Comparato, Michel Gomes, R...   \n",
       "1      s2    Movie  07:19  Demián Bichir, Héctor Bonilla, Oscar Serrano, ...   \n",
       "2      s3    Movie  23:59  Tedd Chan, Stella Chung, Henley Hii, Lawrence ...   \n",
       "3      s4    Movie      9  Elijah Wood, John C. Reilly, Jennifer Connelly...   \n",
       "4      s5    Movie     21  Jim Sturgess, Kevin Spacey, Kate Bosworth, Aar...   \n",
       "\n",
       "         country                                          listed_in  \\\n",
       "0         Brazil  International TV Shows, TV Dramas, TV Sci-Fi &...   \n",
       "1         Mexico                       Dramas, International Movies   \n",
       "2      Singapore                Horror Movies, International Movies   \n",
       "3  United States  Action & Adventure, Independent Movies, Sci-Fi...   \n",
       "4  United States                                             Dramas   \n",
       "\n",
       "                                         description  \n",
       "0  In a future where the elite inhabit an island ...  \n",
       "1  After a devastating earthquake hits Mexico Cit...  \n",
       "2  When an army recruit is found dead, his fellow...  \n",
       "3  In a postapocalyptic world, rag-doll robots hi...  \n",
       "4  A brilliant group of students become card-coun...  "
      ]
     },
     "execution_count": 6,
     "metadata": {},
     "output_type": "execute_result"
    }
   ],
   "source": [
    "df.head()"
   ]
  },
  {
   "cell_type": "code",
   "execution_count": 7,
   "id": "6429e213",
   "metadata": {
    "scrolled": true
   },
   "outputs": [
    {
     "data": {
      "text/plain": [
       "0"
      ]
     },
     "execution_count": 7,
     "metadata": {},
     "output_type": "execute_result"
    }
   ],
   "source": [
    "df.duplicated().sum()"
   ]
  },
  {
   "cell_type": "code",
   "execution_count": 8,
   "id": "8d74fdb6",
   "metadata": {
    "scrolled": true
   },
   "outputs": [
    {
     "name": "stdout",
     "output_type": "stream",
     "text": [
      "INFO: Pandarallel will run on 6 workers.\n",
      "INFO: Pandarallel will use standard multiprocessing data transfer (pipe) to transfer data between the main process and workers.\n",
      "\n",
      "WARNING: You are on Windows. If you detect any issue with pandarallel, be sure you checked out the Troubleshooting page:\n",
      "https://nalepae.github.io/pandarallel/troubleshooting/\n"
     ]
    }
   ],
   "source": [
    "pandarallel.initialize()"
   ]
  },
  {
   "cell_type": "code",
   "execution_count": 9,
   "id": "953aaa43",
   "metadata": {},
   "outputs": [],
   "source": [
    " df['description']=df['description'].parallel_apply(lambda x:x.split())"
   ]
  },
  {
   "cell_type": "code",
   "execution_count": 10,
   "id": "7720f276",
   "metadata": {},
   "outputs": [],
   "source": [
    "df['cast']=df['cast'].astype(str)\n",
    "cast=[]\n",
    "for i in df['cast']:\n",
    "    cast.append(i.replace(\" \",\"\"))\n",
    "df['cast']=cast"
   ]
  },
  {
   "cell_type": "code",
   "execution_count": 11,
   "id": "353ea593",
   "metadata": {},
   "outputs": [],
   "source": [
    "listed_in=[]\n",
    "for i in df['listed_in']:\n",
    "    listed_in.append(i.replace(\" \",\"\"))\n",
    "df['listed_in']=listed_in"
   ]
  },
  {
   "cell_type": "code",
   "execution_count": 12,
   "id": "8e6e415b",
   "metadata": {},
   "outputs": [],
   "source": [
    "df['description']=df['description'].parallel_apply(lambda x:\" \".join(x))"
   ]
  },
  {
   "cell_type": "code",
   "execution_count": 13,
   "id": "773f270b",
   "metadata": {},
   "outputs": [],
   "source": [
    "df=df[df['cast']!=\"nan\"]"
   ]
  },
  {
   "cell_type": "code",
   "execution_count": 14,
   "id": "832db102",
   "metadata": {},
   "outputs": [],
   "source": [
    "df['tags']=df['cast']+\" \"+df['listed_in']+\" \"+df['description']+\" \"+df['type']+\" \"+df['country']"
   ]
  },
  {
   "cell_type": "code",
   "execution_count": 15,
   "id": "adc3dac6",
   "metadata": {},
   "outputs": [
    {
     "data": {
      "text/html": [
       "<div>\n",
       "<style scoped>\n",
       "    .dataframe tbody tr th:only-of-type {\n",
       "        vertical-align: middle;\n",
       "    }\n",
       "\n",
       "    .dataframe tbody tr th {\n",
       "        vertical-align: top;\n",
       "    }\n",
       "\n",
       "    .dataframe thead th {\n",
       "        text-align: right;\n",
       "    }\n",
       "</style>\n",
       "<table border=\"1\" class=\"dataframe\">\n",
       "  <thead>\n",
       "    <tr style=\"text-align: right;\">\n",
       "      <th></th>\n",
       "      <th>show_id</th>\n",
       "      <th>type</th>\n",
       "      <th>title</th>\n",
       "      <th>cast</th>\n",
       "      <th>country</th>\n",
       "      <th>listed_in</th>\n",
       "      <th>description</th>\n",
       "      <th>tags</th>\n",
       "    </tr>\n",
       "  </thead>\n",
       "  <tbody>\n",
       "    <tr>\n",
       "      <th>0</th>\n",
       "      <td>s1</td>\n",
       "      <td>TV Show</td>\n",
       "      <td>3%</td>\n",
       "      <td>JoãoMiguel,BiancaComparato,MichelGomes,Rodolfo...</td>\n",
       "      <td>Brazil</td>\n",
       "      <td>InternationalTVShows,TVDramas,TVSci-Fi&amp;Fantasy</td>\n",
       "      <td>In a future where the elite inhabit an island ...</td>\n",
       "      <td>JoãoMiguel,BiancaComparato,MichelGomes,Rodolfo...</td>\n",
       "    </tr>\n",
       "    <tr>\n",
       "      <th>1</th>\n",
       "      <td>s2</td>\n",
       "      <td>Movie</td>\n",
       "      <td>07:19</td>\n",
       "      <td>DemiánBichir,HéctorBonilla,OscarSerrano,Azalia...</td>\n",
       "      <td>Mexico</td>\n",
       "      <td>Dramas,InternationalMovies</td>\n",
       "      <td>After a devastating earthquake hits Mexico Cit...</td>\n",
       "      <td>DemiánBichir,HéctorBonilla,OscarSerrano,Azalia...</td>\n",
       "    </tr>\n",
       "    <tr>\n",
       "      <th>2</th>\n",
       "      <td>s3</td>\n",
       "      <td>Movie</td>\n",
       "      <td>23:59</td>\n",
       "      <td>TeddChan,StellaChung,HenleyHii,LawrenceKoh,Tom...</td>\n",
       "      <td>Singapore</td>\n",
       "      <td>HorrorMovies,InternationalMovies</td>\n",
       "      <td>When an army recruit is found dead, his fellow...</td>\n",
       "      <td>TeddChan,StellaChung,HenleyHii,LawrenceKoh,Tom...</td>\n",
       "    </tr>\n",
       "    <tr>\n",
       "      <th>3</th>\n",
       "      <td>s4</td>\n",
       "      <td>Movie</td>\n",
       "      <td>9</td>\n",
       "      <td>ElijahWood,JohnC.Reilly,JenniferConnelly,Chris...</td>\n",
       "      <td>United States</td>\n",
       "      <td>Action&amp;Adventure,IndependentMovies,Sci-Fi&amp;Fantasy</td>\n",
       "      <td>In a postapocalyptic world, rag-doll robots hi...</td>\n",
       "      <td>ElijahWood,JohnC.Reilly,JenniferConnelly,Chris...</td>\n",
       "    </tr>\n",
       "    <tr>\n",
       "      <th>4</th>\n",
       "      <td>s5</td>\n",
       "      <td>Movie</td>\n",
       "      <td>21</td>\n",
       "      <td>JimSturgess,KevinSpacey,KateBosworth,AaronYoo,...</td>\n",
       "      <td>United States</td>\n",
       "      <td>Dramas</td>\n",
       "      <td>A brilliant group of students become card-coun...</td>\n",
       "      <td>JimSturgess,KevinSpacey,KateBosworth,AaronYoo,...</td>\n",
       "    </tr>\n",
       "  </tbody>\n",
       "</table>\n",
       "</div>"
      ],
      "text/plain": [
       "  show_id     type  title                                               cast  \\\n",
       "0      s1  TV Show     3%  JoãoMiguel,BiancaComparato,MichelGomes,Rodolfo...   \n",
       "1      s2    Movie  07:19  DemiánBichir,HéctorBonilla,OscarSerrano,Azalia...   \n",
       "2      s3    Movie  23:59  TeddChan,StellaChung,HenleyHii,LawrenceKoh,Tom...   \n",
       "3      s4    Movie      9  ElijahWood,JohnC.Reilly,JenniferConnelly,Chris...   \n",
       "4      s5    Movie     21  JimSturgess,KevinSpacey,KateBosworth,AaronYoo,...   \n",
       "\n",
       "         country                                          listed_in  \\\n",
       "0         Brazil     InternationalTVShows,TVDramas,TVSci-Fi&Fantasy   \n",
       "1         Mexico                         Dramas,InternationalMovies   \n",
       "2      Singapore                   HorrorMovies,InternationalMovies   \n",
       "3  United States  Action&Adventure,IndependentMovies,Sci-Fi&Fantasy   \n",
       "4  United States                                             Dramas   \n",
       "\n",
       "                                         description  \\\n",
       "0  In a future where the elite inhabit an island ...   \n",
       "1  After a devastating earthquake hits Mexico Cit...   \n",
       "2  When an army recruit is found dead, his fellow...   \n",
       "3  In a postapocalyptic world, rag-doll robots hi...   \n",
       "4  A brilliant group of students become card-coun...   \n",
       "\n",
       "                                                tags  \n",
       "0  JoãoMiguel,BiancaComparato,MichelGomes,Rodolfo...  \n",
       "1  DemiánBichir,HéctorBonilla,OscarSerrano,Azalia...  \n",
       "2  TeddChan,StellaChung,HenleyHii,LawrenceKoh,Tom...  \n",
       "3  ElijahWood,JohnC.Reilly,JenniferConnelly,Chris...  \n",
       "4  JimSturgess,KevinSpacey,KateBosworth,AaronYoo,...  "
      ]
     },
     "execution_count": 15,
     "metadata": {},
     "output_type": "execute_result"
    }
   ],
   "source": [
    "df.head()"
   ]
  },
  {
   "cell_type": "code",
   "execution_count": 16,
   "id": "1010efa1",
   "metadata": {},
   "outputs": [],
   "source": [
    "#creating a new dataframe\n",
    "new_df=df[['show_id',\"title\",\"tags\"]]"
   ]
  },
  {
   "cell_type": "code",
   "execution_count": 17,
   "id": "615e1f3f",
   "metadata": {},
   "outputs": [
    {
     "data": {
      "text/html": [
       "<div>\n",
       "<style scoped>\n",
       "    .dataframe tbody tr th:only-of-type {\n",
       "        vertical-align: middle;\n",
       "    }\n",
       "\n",
       "    .dataframe tbody tr th {\n",
       "        vertical-align: top;\n",
       "    }\n",
       "\n",
       "    .dataframe thead th {\n",
       "        text-align: right;\n",
       "    }\n",
       "</style>\n",
       "<table border=\"1\" class=\"dataframe\">\n",
       "  <thead>\n",
       "    <tr style=\"text-align: right;\">\n",
       "      <th></th>\n",
       "      <th>show_id</th>\n",
       "      <th>title</th>\n",
       "      <th>tags</th>\n",
       "    </tr>\n",
       "  </thead>\n",
       "  <tbody>\n",
       "    <tr>\n",
       "      <th>0</th>\n",
       "      <td>s1</td>\n",
       "      <td>3%</td>\n",
       "      <td>JoãoMiguel,BiancaComparato,MichelGomes,Rodolfo...</td>\n",
       "    </tr>\n",
       "    <tr>\n",
       "      <th>1</th>\n",
       "      <td>s2</td>\n",
       "      <td>07:19</td>\n",
       "      <td>DemiánBichir,HéctorBonilla,OscarSerrano,Azalia...</td>\n",
       "    </tr>\n",
       "    <tr>\n",
       "      <th>2</th>\n",
       "      <td>s3</td>\n",
       "      <td>23:59</td>\n",
       "      <td>TeddChan,StellaChung,HenleyHii,LawrenceKoh,Tom...</td>\n",
       "    </tr>\n",
       "    <tr>\n",
       "      <th>3</th>\n",
       "      <td>s4</td>\n",
       "      <td>9</td>\n",
       "      <td>ElijahWood,JohnC.Reilly,JenniferConnelly,Chris...</td>\n",
       "    </tr>\n",
       "    <tr>\n",
       "      <th>4</th>\n",
       "      <td>s5</td>\n",
       "      <td>21</td>\n",
       "      <td>JimSturgess,KevinSpacey,KateBosworth,AaronYoo,...</td>\n",
       "    </tr>\n",
       "    <tr>\n",
       "      <th>...</th>\n",
       "      <td>...</td>\n",
       "      <td>...</td>\n",
       "      <td>...</td>\n",
       "    </tr>\n",
       "    <tr>\n",
       "      <th>7781</th>\n",
       "      <td>s7782</td>\n",
       "      <td>Zoom</td>\n",
       "      <td>TimAllen,CourteneyCox,ChevyChase,KateMara,Ryan...</td>\n",
       "    </tr>\n",
       "    <tr>\n",
       "      <th>7782</th>\n",
       "      <td>s7783</td>\n",
       "      <td>Zozo</td>\n",
       "      <td>ImadCreidi,AntoinetteTurk,EliasGergi,CarmenLeb...</td>\n",
       "    </tr>\n",
       "    <tr>\n",
       "      <th>7783</th>\n",
       "      <td>s7784</td>\n",
       "      <td>Zubaan</td>\n",
       "      <td>VickyKaushal,Sarah-JaneDias,RaaghavChanana,Man...</td>\n",
       "    </tr>\n",
       "    <tr>\n",
       "      <th>7784</th>\n",
       "      <td>s7785</td>\n",
       "      <td>Zulu Man in Japan</td>\n",
       "      <td>NaN</td>\n",
       "    </tr>\n",
       "    <tr>\n",
       "      <th>7785</th>\n",
       "      <td>s7786</td>\n",
       "      <td>Zumbo's Just Desserts</td>\n",
       "      <td>AdrianoZumbo,RachelKhoo InternationalTVShows,R...</td>\n",
       "    </tr>\n",
       "  </tbody>\n",
       "</table>\n",
       "<p>7069 rows × 3 columns</p>\n",
       "</div>"
      ],
      "text/plain": [
       "     show_id                  title  \\\n",
       "0         s1                     3%   \n",
       "1         s2                  07:19   \n",
       "2         s3                  23:59   \n",
       "3         s4                      9   \n",
       "4         s5                     21   \n",
       "...      ...                    ...   \n",
       "7781   s7782                   Zoom   \n",
       "7782   s7783                   Zozo   \n",
       "7783   s7784                 Zubaan   \n",
       "7784   s7785      Zulu Man in Japan   \n",
       "7785   s7786  Zumbo's Just Desserts   \n",
       "\n",
       "                                                   tags  \n",
       "0     JoãoMiguel,BiancaComparato,MichelGomes,Rodolfo...  \n",
       "1     DemiánBichir,HéctorBonilla,OscarSerrano,Azalia...  \n",
       "2     TeddChan,StellaChung,HenleyHii,LawrenceKoh,Tom...  \n",
       "3     ElijahWood,JohnC.Reilly,JenniferConnelly,Chris...  \n",
       "4     JimSturgess,KevinSpacey,KateBosworth,AaronYoo,...  \n",
       "...                                                 ...  \n",
       "7781  TimAllen,CourteneyCox,ChevyChase,KateMara,Ryan...  \n",
       "7782  ImadCreidi,AntoinetteTurk,EliasGergi,CarmenLeb...  \n",
       "7783  VickyKaushal,Sarah-JaneDias,RaaghavChanana,Man...  \n",
       "7784                                                NaN  \n",
       "7785  AdrianoZumbo,RachelKhoo InternationalTVShows,R...  \n",
       "\n",
       "[7069 rows x 3 columns]"
      ]
     },
     "execution_count": 17,
     "metadata": {},
     "output_type": "execute_result"
    }
   ],
   "source": [
    "new_df"
   ]
  },
  {
   "cell_type": "code",
   "execution_count": 18,
   "id": "18031aee",
   "metadata": {},
   "outputs": [
    {
     "data": {
      "text/plain": [
       "(7069, 3)"
      ]
     },
     "execution_count": 18,
     "metadata": {},
     "output_type": "execute_result"
    }
   ],
   "source": [
    "new_df.shape"
   ]
  },
  {
   "cell_type": "code",
   "execution_count": 19,
   "id": "dd865265",
   "metadata": {},
   "outputs": [
    {
     "data": {
      "text/plain": [
       "show_id      0\n",
       "title        0\n",
       "tags       411\n",
       "dtype: int64"
      ]
     },
     "execution_count": 19,
     "metadata": {},
     "output_type": "execute_result"
    }
   ],
   "source": [
    "new_df.isna().sum()"
   ]
  },
  {
   "cell_type": "code",
   "execution_count": 20,
   "id": "a05a7266",
   "metadata": {},
   "outputs": [
    {
     "name": "stderr",
     "output_type": "stream",
     "text": [
      "C:\\Users\\VENKTESH DALAVAYI\\AppData\\Local\\Temp\\ipykernel_10376\\1925939579.py:1: SettingWithCopyWarning: \n",
      "A value is trying to be set on a copy of a slice from a DataFrame\n",
      "\n",
      "See the caveats in the documentation: https://pandas.pydata.org/pandas-docs/stable/user_guide/indexing.html#returning-a-view-versus-a-copy\n",
      "  new_df.dropna(inplace=True)\n"
     ]
    }
   ],
   "source": [
    "#droping null values\n",
    "new_df.dropna(inplace=True)"
   ]
  },
  {
   "cell_type": "code",
   "execution_count": 21,
   "id": "72437b5c",
   "metadata": {},
   "outputs": [],
   "source": [
    "new_df.reset_index(drop=True,inplace=True)"
   ]
  },
  {
   "cell_type": "code",
   "execution_count": 22,
   "id": "30e64033",
   "metadata": {},
   "outputs": [
    {
     "data": {
      "text/plain": [
       "'JoãoMiguel,BiancaComparato,MichelGomes,RodolfoValente,VanezaOliveira,RafaelLozano,VivianePorto,MelFronckowiak,SergioMamberti,ZezéMotta,CelsoFrateschi InternationalTVShows,TVDramas,TVSci-Fi&Fantasy In a future where the elite inhabit an island paradise far from the crowded slums, you get one chance to join the 3% saved from squalor. TV Show Brazil'"
      ]
     },
     "execution_count": 22,
     "metadata": {},
     "output_type": "execute_result"
    }
   ],
   "source": [
    "new_df['tags'][0]"
   ]
  },
  {
   "cell_type": "code",
   "execution_count": 23,
   "id": "a9ec8329",
   "metadata": {
    "scrolled": true
   },
   "outputs": [
    {
     "name": "stderr",
     "output_type": "stream",
     "text": [
      "C:\\Users\\VENKTESH DALAVAYI\\AppData\\Local\\Temp\\ipykernel_10376\\2960334847.py:1: SettingWithCopyWarning: \n",
      "A value is trying to be set on a copy of a slice from a DataFrame.\n",
      "Try using .loc[row_indexer,col_indexer] = value instead\n",
      "\n",
      "See the caveats in the documentation: https://pandas.pydata.org/pandas-docs/stable/user_guide/indexing.html#returning-a-view-versus-a-copy\n",
      "  new_df['tags']=new_df['tags'].parallel_apply(lambda x:x.lower())\n"
     ]
    }
   ],
   "source": [
    "new_df['tags']=new_df['tags'].parallel_apply(lambda x:x.lower())"
   ]
  },
  {
   "cell_type": "code",
   "execution_count": 24,
   "id": "50b0acaf",
   "metadata": {
    "scrolled": true
   },
   "outputs": [
    {
     "data": {
      "text/plain": [
       "(6658, 3)"
      ]
     },
     "execution_count": 24,
     "metadata": {},
     "output_type": "execute_result"
    }
   ],
   "source": [
    "new_df.shape"
   ]
  },
  {
   "cell_type": "markdown",
   "id": "e6c2ebf7",
   "metadata": {},
   "source": [
    "# Creating a CountVectorizer Variable"
   ]
  },
  {
   "cell_type": "code",
   "execution_count": 25,
   "id": "e1c0d0de",
   "metadata": {},
   "outputs": [],
   "source": [
    "cv=CountVectorizer(max_features=6658,stop_words='english')"
   ]
  },
  {
   "cell_type": "code",
   "execution_count": 26,
   "id": "ec871bdc",
   "metadata": {},
   "outputs": [],
   "source": [
    "vector=cv.fit_transform(new_df['tags']).toarray()"
   ]
  },
  {
   "cell_type": "markdown",
   "id": "72fe5e3b",
   "metadata": {},
   "source": [
    "# Creating a PorterStemmer Variable"
   ]
  },
  {
   "cell_type": "code",
   "execution_count": 28,
   "id": "2ddf6a51",
   "metadata": {},
   "outputs": [],
   "source": [
    "ps=PorterStemmer()"
   ]
  },
  {
   "cell_type": "code",
   "execution_count": 29,
   "id": "6c5567b2",
   "metadata": {
    "scrolled": true
   },
   "outputs": [
    {
     "data": {
      "text/plain": [
       "<PorterStemmer>"
      ]
     },
     "execution_count": 29,
     "metadata": {},
     "output_type": "execute_result"
    }
   ],
   "source": [
    "ps"
   ]
  },
  {
   "cell_type": "markdown",
   "id": "cf18219e",
   "metadata": {},
   "source": [
    "# Buliding a method to apply PortStemmer"
   ]
  },
  {
   "cell_type": "code",
   "execution_count": 30,
   "id": "213f7f56",
   "metadata": {},
   "outputs": [],
   "source": [
    "def stem(text):\n",
    "    y=[]\n",
    "    for i in text.split():\n",
    "        y.append(ps.stem(i))\n",
    "    return \" \".join(y)"
   ]
  },
  {
   "cell_type": "code",
   "execution_count": 31,
   "id": "5afc97f4",
   "metadata": {},
   "outputs": [
    {
     "name": "stderr",
     "output_type": "stream",
     "text": [
      "C:\\Users\\VENKTESH DALAVAYI\\AppData\\Local\\Temp\\ipykernel_10376\\3514595201.py:1: SettingWithCopyWarning: \n",
      "A value is trying to be set on a copy of a slice from a DataFrame.\n",
      "Try using .loc[row_indexer,col_indexer] = value instead\n",
      "\n",
      "See the caveats in the documentation: https://pandas.pydata.org/pandas-docs/stable/user_guide/indexing.html#returning-a-view-versus-a-copy\n",
      "  new_df['tags']=new_df['tags'].apply(stem)\n"
     ]
    }
   ],
   "source": [
    "new_df['tags']=new_df['tags'].apply(stem)"
   ]
  },
  {
   "cell_type": "code",
   "execution_count": 32,
   "id": "8e2b7fd3",
   "metadata": {},
   "outputs": [
    {
     "data": {
      "text/html": [
       "<div>\n",
       "<style scoped>\n",
       "    .dataframe tbody tr th:only-of-type {\n",
       "        vertical-align: middle;\n",
       "    }\n",
       "\n",
       "    .dataframe tbody tr th {\n",
       "        vertical-align: top;\n",
       "    }\n",
       "\n",
       "    .dataframe thead th {\n",
       "        text-align: right;\n",
       "    }\n",
       "</style>\n",
       "<table border=\"1\" class=\"dataframe\">\n",
       "  <thead>\n",
       "    <tr style=\"text-align: right;\">\n",
       "      <th></th>\n",
       "      <th>show_id</th>\n",
       "      <th>title</th>\n",
       "      <th>tags</th>\n",
       "    </tr>\n",
       "  </thead>\n",
       "  <tbody>\n",
       "    <tr>\n",
       "      <th>0</th>\n",
       "      <td>s1</td>\n",
       "      <td>3%</td>\n",
       "      <td>joãomiguel,biancacomparato,michelgomes,rodolfo...</td>\n",
       "    </tr>\n",
       "    <tr>\n",
       "      <th>1</th>\n",
       "      <td>s2</td>\n",
       "      <td>07:19</td>\n",
       "      <td>demiánbichir,héctorbonilla,oscarserrano,azalia...</td>\n",
       "    </tr>\n",
       "    <tr>\n",
       "      <th>2</th>\n",
       "      <td>s3</td>\n",
       "      <td>23:59</td>\n",
       "      <td>teddchan,stellachung,henleyhii,lawrencekoh,tom...</td>\n",
       "    </tr>\n",
       "    <tr>\n",
       "      <th>3</th>\n",
       "      <td>s4</td>\n",
       "      <td>9</td>\n",
       "      <td>elijahwood,johnc.reilly,jenniferconnelly,chris...</td>\n",
       "    </tr>\n",
       "    <tr>\n",
       "      <th>4</th>\n",
       "      <td>s5</td>\n",
       "      <td>21</td>\n",
       "      <td>jimsturgess,kevinspacey,katebosworth,aaronyoo,...</td>\n",
       "    </tr>\n",
       "    <tr>\n",
       "      <th>...</th>\n",
       "      <td>...</td>\n",
       "      <td>...</td>\n",
       "      <td>...</td>\n",
       "    </tr>\n",
       "    <tr>\n",
       "      <th>6653</th>\n",
       "      <td>s7781</td>\n",
       "      <td>Zoo</td>\n",
       "      <td>shashankarora,shwetatripathi,rahulkumar,gopalk...</td>\n",
       "    </tr>\n",
       "    <tr>\n",
       "      <th>6654</th>\n",
       "      <td>s7782</td>\n",
       "      <td>Zoom</td>\n",
       "      <td>timallen,courteneycox,chevychase,katemara,ryan...</td>\n",
       "    </tr>\n",
       "    <tr>\n",
       "      <th>6655</th>\n",
       "      <td>s7783</td>\n",
       "      <td>Zozo</td>\n",
       "      <td>imadcreidi,antoinetteturk,eliasgergi,carmenleb...</td>\n",
       "    </tr>\n",
       "    <tr>\n",
       "      <th>6656</th>\n",
       "      <td>s7784</td>\n",
       "      <td>Zubaan</td>\n",
       "      <td>vickykaushal,sarah-janedias,raaghavchanana,man...</td>\n",
       "    </tr>\n",
       "    <tr>\n",
       "      <th>6657</th>\n",
       "      <td>s7786</td>\n",
       "      <td>Zumbo's Just Desserts</td>\n",
       "      <td>adrianozumbo,rachelkhoo internationaltvshows,r...</td>\n",
       "    </tr>\n",
       "  </tbody>\n",
       "</table>\n",
       "<p>6658 rows × 3 columns</p>\n",
       "</div>"
      ],
      "text/plain": [
       "     show_id                  title  \\\n",
       "0         s1                     3%   \n",
       "1         s2                  07:19   \n",
       "2         s3                  23:59   \n",
       "3         s4                      9   \n",
       "4         s5                     21   \n",
       "...      ...                    ...   \n",
       "6653   s7781                    Zoo   \n",
       "6654   s7782                   Zoom   \n",
       "6655   s7783                   Zozo   \n",
       "6656   s7784                 Zubaan   \n",
       "6657   s7786  Zumbo's Just Desserts   \n",
       "\n",
       "                                                   tags  \n",
       "0     joãomiguel,biancacomparato,michelgomes,rodolfo...  \n",
       "1     demiánbichir,héctorbonilla,oscarserrano,azalia...  \n",
       "2     teddchan,stellachung,henleyhii,lawrencekoh,tom...  \n",
       "3     elijahwood,johnc.reilly,jenniferconnelly,chris...  \n",
       "4     jimsturgess,kevinspacey,katebosworth,aaronyoo,...  \n",
       "...                                                 ...  \n",
       "6653  shashankarora,shwetatripathi,rahulkumar,gopalk...  \n",
       "6654  timallen,courteneycox,chevychase,katemara,ryan...  \n",
       "6655  imadcreidi,antoinetteturk,eliasgergi,carmenleb...  \n",
       "6656  vickykaushal,sarah-janedias,raaghavchanana,man...  \n",
       "6657  adrianozumbo,rachelkhoo internationaltvshows,r...  \n",
       "\n",
       "[6658 rows x 3 columns]"
      ]
     },
     "execution_count": 32,
     "metadata": {},
     "output_type": "execute_result"
    }
   ],
   "source": [
    "new_df"
   ]
  },
  {
   "cell_type": "code",
   "execution_count": 33,
   "id": "f2e9ea15",
   "metadata": {},
   "outputs": [],
   "source": [
    "similarity=cosine_similarity(vector)"
   ]
  },
  {
   "cell_type": "code",
   "execution_count": 34,
   "id": "f757efea",
   "metadata": {
    "scrolled": true
   },
   "outputs": [
    {
     "data": {
      "text/plain": [
       "(6658, 6658)"
      ]
     },
     "execution_count": 34,
     "metadata": {},
     "output_type": "execute_result"
    }
   ],
   "source": [
    "similarity.shape"
   ]
  },
  {
   "cell_type": "code",
   "execution_count": 35,
   "id": "93a7fedf",
   "metadata": {},
   "outputs": [
    {
     "data": {
      "text/plain": [
       "[(1, 0.0), (2, 0.05564148840746572), (3, 0.09901475429766744), (4, 0.0)]"
      ]
     },
     "execution_count": 35,
     "metadata": {},
     "output_type": "execute_result"
    }
   ],
   "source": [
    "list(enumerate(similarity[0]))[1:5]"
   ]
  },
  {
   "cell_type": "code",
   "execution_count": 36,
   "id": "ca03fc6a",
   "metadata": {
    "scrolled": true
   },
   "outputs": [
    {
     "name": "stdout",
     "output_type": "stream",
     "text": [
      "Nailed It! France\n",
      "Nailed It! Germany\n",
      "The Circle Brazil\n",
      "Zumbo's Just Desserts\n",
      "Crazy Delicious\n"
     ]
    }
   ],
   "source": [
    "d=sorted(list(enumerate(similarity[3754])),reverse=True,key=lambda x:x[1])\n",
    "for i in d[0:5]:\n",
    "    print(new_df.iloc[i[0]].title)"
   ]
  },
  {
   "cell_type": "code",
   "execution_count": 37,
   "id": "3f40fc30",
   "metadata": {
    "scrolled": true
   },
   "outputs": [
    {
     "data": {
      "text/plain": [
       "3754"
      ]
     },
     "execution_count": 37,
     "metadata": {},
     "output_type": "execute_result"
    }
   ],
   "source": [
    "new_df[new_df['title']==\"Nailed It! France\"].index[0]"
   ]
  },
  {
   "cell_type": "markdown",
   "id": "964bec68",
   "metadata": {},
   "source": [
    "# Building a method to recommend movies"
   ]
  },
  {
   "cell_type": "code",
   "execution_count": 38,
   "id": "946a2f9c",
   "metadata": {},
   "outputs": [],
   "source": [
    "def recommend(movie):\n",
    "    movie_index=new_df[new_df['title']==movie].index[0]#gives the index of the movie name\n",
    "    distance=similarity[movie_index]#gives the simililar movie index\n",
    "    movies_list=sorted(list(enumerate(distance)),reverse=True,key=lambda vector:vector[1])[1:6]#give the top 5 matched movie index\n",
    "    for i in movies_list:\n",
    "        print(new_df.iloc[i[0]].title)#c"
   ]
  },
  {
   "cell_type": "code",
   "execution_count": 39,
   "id": "e517a565",
   "metadata": {},
   "outputs": [
    {
     "name": "stdout",
     "output_type": "stream",
     "text": [
      "Nailed It! France\n",
      "Nailed It! Spain\n",
      "Sing On! Germany\n",
      "The Chefs' Line\n",
      "The Circle Brazil\n"
     ]
    }
   ],
   "source": [
    "recommend(\"Nailed It! Germany\")"
   ]
  },
  {
   "cell_type": "code",
   "execution_count": 40,
   "id": "27967fb0",
   "metadata": {},
   "outputs": [
    {
     "name": "stdout",
     "output_type": "stream",
     "text": [
      "Crazy Delicious\n",
      "Nailed It! Germany\n",
      "Zumbo's Just Desserts\n",
      "Nailed It! France\n",
      "The Circle Brazil\n"
     ]
    }
   ],
   "source": [
    "recommend(\"The Chefs' Line\")"
   ]
  },
  {
   "cell_type": "code",
   "execution_count": 41,
   "id": "c7102d84",
   "metadata": {
    "scrolled": true
   },
   "outputs": [
    {
     "name": "stdout",
     "output_type": "stream",
     "text": [
      "The Big Family Cooking Showdown\n",
      "My Hotter Half\n",
      "Baby Ballroom\n",
      "Cabins in the Wild with Dick Strawbridge\n",
      "Botched Up Bodies\n"
     ]
    }
   ],
   "source": [
    "recommend(\"Crazy Delicious\")"
   ]
  },
  {
   "cell_type": "markdown",
   "id": "aff262bf",
   "metadata": {},
   "source": [
    "# Saving the new dataset and cosine similarity"
   ]
  },
  {
   "cell_type": "code",
   "execution_count": 42,
   "id": "f76101a4",
   "metadata": {},
   "outputs": [],
   "source": [
    "import pickle \n",
    "pickle.dump(new_df,open(\"netflix_dataset.pkl\",\"wb\"))\n",
    "pickle.dump(similarity,open(\"similarity.pkl\",\"wb\"))"
   ]
  }
 ],
 "metadata": {
  "kernelspec": {
   "display_name": "Python 3 (ipykernel)",
   "language": "python",
   "name": "python3"
  },
  "language_info": {
   "codemirror_mode": {
    "name": "ipython",
    "version": 3
   },
   "file_extension": ".py",
   "mimetype": "text/x-python",
   "name": "python",
   "nbconvert_exporter": "python",
   "pygments_lexer": "ipython3",
   "version": "3.10.11"
  }
 },
 "nbformat": 4,
 "nbformat_minor": 5
}
